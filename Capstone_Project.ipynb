{
 "cells": [
  {
   "cell_type": "markdown",
   "metadata": {
    "toc": true
   },
   "source": [
    "<h1>Table of Contents<span class=\"tocSkip\"></span></h1>\n",
    "<div class=\"toc\"><ul class=\"toc-item\"><li><span><a href=\"#Capstone-Project---Cricket-Dashboard\" data-toc-modified-id=\"Capstone-Project---Cricket-Dashboard-0\">Capstone Project - Cricket Dashboard</a></span></li></ul></div>"
   ]
  },
  {
   "cell_type": "markdown",
   "metadata": {},
   "source": [
    "### Capstone Project - Cricket Dashboard"
   ]
  },
  {
   "cell_type": "markdown",
   "metadata": {},
   "source": [
    "- __Student name: Vidya Menon__  \n",
    "- __Student pace: Full time__    \n",
    "- __Scheduled project review date: July 27, 2020__   \n",
    "- __Instructor name: Amber Yandow__"
   ]
  },
  {
   "cell_type": "code",
   "execution_count": null,
   "metadata": {},
   "outputs": [],
   "source": [
    "# Importing Libraries\n",
    "import pandas as pd\n",
    "import numpy as np \n",
    "\n",
    "import matplotlib.pyplot as plt\n",
    "import seaborn as sns\n",
    "\n",
    "import dash\n",
    "from dash.dependencies import Input, Output\n",
    "import dash_core_components as dcc\n",
    "import dash_html_components as html\n",
    "\n",
    "import warnings\n",
    "warnings.filterwarnings('ignore')\n",
    "\n",
    "import dbm\n",
    "import plotly.graph_objs as go\n",
    "from plotly.subplots import make_subplots\n",
    "import plotly.express as px"
   ]
  },
  {
   "cell_type": "code",
   "execution_count": null,
   "metadata": {},
   "outputs": [],
   "source": [
    "# Set up the app\n",
    "app = dash.Dash(__name__)\n",
    "app.config.suppress_callback_exceptions = True\n",
    "server = app.server"
   ]
  },
  {
   "cell_type": "code",
   "execution_count": null,
   "metadata": {},
   "outputs": [],
   "source": [
    "# Defining the style of our Tabs\n",
    "\n",
    "tabs_styles = {\n",
    "    'height': '44px','width':'532px'\n",
    "}\n",
    "tab_style = {\n",
    "    'borderBottom': '1px solid #d6d6d6',\n",
    "    'padding': '6px',\n",
    "    'fontWeight': 'bold'\n",
    "}\n",
    "\n",
    "tab_selected_style = {\n",
    "    'borderTop': '1px solid #d6d6d6',\n",
    "    'borderBottom': '1px solid #d6d6d6',\n",
    "    'backgroundColor': '#119DFF',\n",
    "    'color': 'white',\n",
    "    'padding': '6px'\n",
    "}"
   ]
  },
  {
   "cell_type": "code",
   "execution_count": null,
   "metadata": {},
   "outputs": [],
   "source": [
    "# Creating dataframe for Batsman info\n",
    "\n",
    "global odi_bat\n",
    "odi_bat = pd.read_csv('data/odiBatting_dataframe_1.csv',parse_dates=True)"
   ]
  },
  {
   "cell_type": "code",
   "execution_count": null,
   "metadata": {},
   "outputs": [],
   "source": [
    "odi_bat"
   ]
  },
  {
   "cell_type": "code",
   "execution_count": null,
   "metadata": {},
   "outputs": [],
   "source": [
    "# Changing the Date type\n",
    "#odi_bat['Date'] = pd.to_datetime(odi_bat['Date'])\n",
    "odi_bat.index = pd.to_datetime(odi_bat['Date'])\n",
    "# There is a blank space after the Player's Name, removing that\n",
    "#odi_bat['Player_Name'] = odi_bat['Player_Name'].str.strip()"
   ]
  },
  {
   "cell_type": "code",
   "execution_count": null,
   "metadata": {},
   "outputs": [],
   "source": [
    "odi_bat"
   ]
  },
  {
   "cell_type": "code",
   "execution_count": null,
   "metadata": {},
   "outputs": [],
   "source": [
    "# Checking values in our data frame\n",
    "odi_bat.loc[odi_bat['Player']=='JD Ryder (NZ)', ['Player', 'Date']]"
   ]
  },
  {
   "cell_type": "code",
   "execution_count": null,
   "metadata": {},
   "outputs": [],
   "source": [
    "# Removing null values\n",
    "odi_bat = odi_bat.drop(odi_bat[odi_bat['Runs'] == 'DNB'].index) \n",
    "odi_bat = odi_bat.drop(odi_bat[odi_bat['Runs'] == 'absent'].index)\n",
    "odi_bat = odi_bat.drop(odi_bat[odi_bat['Runs'] == 'TDNB'].index)"
   ]
  },
  {
   "cell_type": "code",
   "execution_count": null,
   "metadata": {},
   "outputs": [],
   "source": [
    "odi_bat"
   ]
  },
  {
   "cell_type": "code",
   "execution_count": null,
   "metadata": {},
   "outputs": [],
   "source": [
    "odi_bat['Runs_only'] = odi_bat['Runs']\n",
    "odi_bat"
   ]
  },
  {
   "cell_type": "code",
   "execution_count": null,
   "metadata": {},
   "outputs": [],
   "source": [
    "odi_bat['Not_Outs'] = 0\n",
    "odi_bat"
   ]
  },
  {
   "cell_type": "code",
   "execution_count": null,
   "metadata": {},
   "outputs": [],
   "source": [
    "odi_bat.dtypes"
   ]
  },
  {
   "cell_type": "code",
   "execution_count": null,
   "metadata": {
    "scrolled": true
   },
   "outputs": [],
   "source": [
    "#for player in odi_bat['Player_Name']:\n",
    "odi_bat['Not_Outs'] = odi_bat['Runs_only'].str.endswith('*').astype(int)\n",
    "\n",
    "odi_bat"
   ]
  },
  {
   "cell_type": "code",
   "execution_count": null,
   "metadata": {},
   "outputs": [],
   "source": [
    "odi_bat.to_csv('bat.csv')"
   ]
  },
  {
   "cell_type": "code",
   "execution_count": null,
   "metadata": {},
   "outputs": [],
   "source": [
    "odi_bat['Inns'].unique"
   ]
  },
  {
   "cell_type": "code",
   "execution_count": null,
   "metadata": {},
   "outputs": [],
   "source": [
    "odi_bat['Runs_only'] = odi_bat['Runs_only'].str.strip('*')\n",
    "odi_bat['Runs'] = odi_bat['Runs'].str.strip('*')"
   ]
  },
  {
   "cell_type": "code",
   "execution_count": null,
   "metadata": {},
   "outputs": [],
   "source": [
    "odi_bat['Not_Outs'].unique()"
   ]
  },
  {
   "cell_type": "code",
   "execution_count": null,
   "metadata": {},
   "outputs": [],
   "source": [
    "odi_bat['Runs_only'].unique()"
   ]
  },
  {
   "cell_type": "code",
   "execution_count": null,
   "metadata": {},
   "outputs": [],
   "source": [
    "odi_bat = odi_bat.replace('-',0)"
   ]
  },
  {
   "cell_type": "code",
   "execution_count": null,
   "metadata": {},
   "outputs": [],
   "source": [
    "odi_bat['Runs_only'] = odi_bat['Runs_only'].astype(int)\n",
    "#odi_bat['Mins'] = odi_bat['Mins'].astype(int)\n",
    "odi_bat = odi_bat.astype({'Mins':'int','BF':'int','4s':'int','6s':'int','SR':'float','Inns':'bool'})"
   ]
  },
  {
   "cell_type": "code",
   "execution_count": null,
   "metadata": {},
   "outputs": [],
   "source": [
    "#odi_bat['Mins'].unique()"
   ]
  },
  {
   "cell_type": "code",
   "execution_count": null,
   "metadata": {},
   "outputs": [],
   "source": [
    "odi_bat.dtypes"
   ]
  },
  {
   "cell_type": "code",
   "execution_count": null,
   "metadata": {},
   "outputs": [],
   "source": [
    "odi_bat['Inns']"
   ]
  },
  {
   "cell_type": "code",
   "execution_count": null,
   "metadata": {},
   "outputs": [],
   "source": [
    "odi_bat[odi_bat['Player']=='JD Ryder (NZ)']['Runs_only'].sum()"
   ]
  },
  {
   "cell_type": "code",
   "execution_count": null,
   "metadata": {},
   "outputs": [],
   "source": [
    "new_odibat = odi_bat.groupby('Player').agg({'Runs_only':'sum', 'Mins':'sum', 'BF':'sum', '4s':'sum', '6s':'sum','Inns':'sum', 'SR':'mean', 'Not_Outs':'sum'})\n",
    "new_odibat    "
   ]
  },
  {
   "cell_type": "code",
   "execution_count": null,
   "metadata": {},
   "outputs": [],
   "source": [
    "new_odibat['SR']=new_odibat['SR'].round(2)\n",
    "new_odibat = new_odibat.reset_index()"
   ]
  },
  {
   "cell_type": "code",
   "execution_count": null,
   "metadata": {},
   "outputs": [],
   "source": [
    "new_odibat.info()"
   ]
  },
  {
   "cell_type": "code",
   "execution_count": null,
   "metadata": {},
   "outputs": [],
   "source": [
    "# Creating dataframe for our Bowlers\n",
    "\n",
    "global odi_bowl\n",
    "odi_bowl = pd.read_csv('data/odiBowling_dataframe_1.csv',parse_dates=True)"
   ]
  },
  {
   "cell_type": "code",
   "execution_count": null,
   "metadata": {},
   "outputs": [],
   "source": [
    "odi_bowl"
   ]
  },
  {
   "cell_type": "code",
   "execution_count": null,
   "metadata": {},
   "outputs": [],
   "source": [
    "odi_bowl = odi_bowl.drop(odi_bowl[odi_bowl['Overs'] == 'DNB'].index)"
   ]
  },
  {
   "cell_type": "code",
   "execution_count": null,
   "metadata": {},
   "outputs": [],
   "source": [
    "odi_bowl"
   ]
  },
  {
   "cell_type": "code",
   "execution_count": null,
   "metadata": {},
   "outputs": [],
   "source": [
    "odi_bowl['Overs'].unique()"
   ]
  },
  {
   "cell_type": "code",
   "execution_count": null,
   "metadata": {},
   "outputs": [],
   "source": [
    "odi_bowl = odi_bowl.drop(odi_bowl[odi_bowl['Overs'] == 'TDNB'].index)"
   ]
  },
  {
   "cell_type": "code",
   "execution_count": null,
   "metadata": {},
   "outputs": [],
   "source": [
    "odi_bowl.index = pd.to_datetime(odi_bowl['Date'])\n",
    "odi_bowl"
   ]
  },
  {
   "cell_type": "code",
   "execution_count": null,
   "metadata": {},
   "outputs": [],
   "source": [
    "odi_bowl['Date'] = pd.to_datetime(odi_bowl['Date'].astype(str))"
   ]
  },
  {
   "cell_type": "code",
   "execution_count": null,
   "metadata": {},
   "outputs": [],
   "source": [
    "#odi_bowl['Player_Name'] = odi_bowl['Player_Name'].str.strip()"
   ]
  },
  {
   "cell_type": "code",
   "execution_count": null,
   "metadata": {},
   "outputs": [],
   "source": [
    "odi_bowl.loc[odi_bowl['Player']=='JR Hazlewood (AUS)', ['Player', 'Date']]"
   ]
  },
  {
   "cell_type": "code",
   "execution_count": null,
   "metadata": {},
   "outputs": [],
   "source": [
    "odi_bowl.info()"
   ]
  },
  {
   "cell_type": "code",
   "execution_count": null,
   "metadata": {},
   "outputs": [],
   "source": [
    "odi_bowl = odi_bowl.replace('-',0)"
   ]
  },
  {
   "cell_type": "code",
   "execution_count": null,
   "metadata": {},
   "outputs": [],
   "source": [
    "odi_bowl = odi_bowl.astype({'Overs':'float','Maidens':'int','Runs':'int','Wkts':'int','Econ':'float','Inns':'bool'})\n",
    "odi_bowl.info()"
   ]
  },
  {
   "cell_type": "code",
   "execution_count": null,
   "metadata": {},
   "outputs": [],
   "source": [
    "odi_bowl['Balls'] =(odi_bowl['Overs']%1)*10 + (odi_bowl['Overs']//1)*6"
   ]
  },
  {
   "cell_type": "code",
   "execution_count": null,
   "metadata": {},
   "outputs": [],
   "source": [
    "odi_bowl.head(45)"
   ]
  },
  {
   "cell_type": "code",
   "execution_count": null,
   "metadata": {},
   "outputs": [],
   "source": [
    "odi_bowl['Balls'] = odi_bowl['Balls'].astype(int)\n",
    "odi_bowl.info()"
   ]
  },
  {
   "cell_type": "code",
   "execution_count": null,
   "metadata": {},
   "outputs": [],
   "source": [
    "new_odibowl = odi_bowl.groupby('Player').agg({'Overs':'sum', 'Maidens':'sum', 'Runs':'sum', 'Wkts':'sum', 'Econ':'mean','Inns':'sum','Balls':'sum'})\n",
    "new_odibowl"
   ]
  },
  {
   "cell_type": "code",
   "execution_count": null,
   "metadata": {},
   "outputs": [],
   "source": [
    "new_odibowl['Overs']=new_odibowl['Balls']//6 + (new_odibowl['Balls']%6)/10\n",
    "new_odibowl['Econ']=(new_odibowl['Runs']/new_odibowl['Balls'])*6\n",
    "new_odibowl['Econ']=new_odibowl['Econ'].round(2)\n",
    "new_odibowl.head(45)"
   ]
  },
  {
   "cell_type": "code",
   "execution_count": null,
   "metadata": {},
   "outputs": [],
   "source": [
    "new_odibowl = new_odibowl.reset_index()\n",
    "new_odibowl"
   ]
  },
  {
   "cell_type": "code",
   "execution_count": null,
   "metadata": {},
   "outputs": [],
   "source": [
    "global odi_batstats\n",
    "\n",
    "odi_batstats = pd.read_csv('data/Men ODI Team Batting Stats.csv')"
   ]
  },
  {
   "cell_type": "code",
   "execution_count": null,
   "metadata": {},
   "outputs": [],
   "source": [
    "odi_batstats"
   ]
  },
  {
   "cell_type": "markdown",
   "metadata": {},
   "source": [
    "__Renaming Columns of the Dataframe__"
   ]
  },
  {
   "cell_type": "code",
   "execution_count": null,
   "metadata": {},
   "outputs": [],
   "source": [
    "odi_batstats = odi_batstats.rename(columns={\"Team Matches Played\": \"Played\", \"Matches Won\": \"Won\", \"Matches Lost\":\"Lost\",\n",
    "                            \"Matches Tied\":\"Tied\",\"Matches With No Result\":\"NoResult\",\"Win/Loss Ratio\":\"WinLossRatio\",\n",
    "                            \"Avg Runs Per Wicket Batting\":\"Average_Runs_per_wicket\",\"Avg Runs Per Six Balls Batting\":\"Run_Rate\",\n",
    "                            \"Number Of Team Innings Batting\":\"Innings\",\"Highest Team Score Batting\":\"Highest_Total\",\n",
    "                             \"Lowest Completed Score Batting\":\"Lowest_Total\"})"
   ]
  },
  {
   "cell_type": "code",
   "execution_count": null,
   "metadata": {},
   "outputs": [],
   "source": [
    "odi_batstats"
   ]
  },
  {
   "cell_type": "code",
   "execution_count": null,
   "metadata": {},
   "outputs": [],
   "source": [
    "odi_batstats.info()"
   ]
  },
  {
   "cell_type": "code",
   "execution_count": null,
   "metadata": {},
   "outputs": [],
   "source": [
    "# Creating Dictionary for the Teams\n",
    "def create_dict_list_of_teams():\n",
    "    dictlist = []\n",
    "    unique_list = odi_batstats.Country.unique()\n",
    "    for Country in unique_list:\n",
    "        dictlist.append({'value': Country, 'label': Country})\n",
    "    return dictlist"
   ]
  },
  {
   "cell_type": "code",
   "execution_count": null,
   "metadata": {},
   "outputs": [],
   "source": [
    "def dict_team_list(dict_list):\n",
    "    team_list = []\n",
    "    for dict in dict_list:\n",
    "        team_list.append(dict.get('value'))\n",
    "    return team_list"
   ]
  },
  {
   "cell_type": "code",
   "execution_count": null,
   "metadata": {},
   "outputs": [],
   "source": [
    "dict_teams = create_dict_list_of_teams()"
   ]
  },
  {
   "cell_type": "markdown",
   "metadata": {},
   "source": [
    "__We will create an app layout which will encapsulate html objects in the html module. This will be our main access to \n",
    "layout the graphs and and adjust the relative sizes to your view screen sizes.__  \n",
    "__Notice the dcc module. This is the dash core components which will store basic visualizations for web application such as \n",
    "barchart, dropdown, and line chart.__"
   ]
  },
  {
   "cell_type": "code",
   "execution_count": null,
   "metadata": {},
   "outputs": [],
   "source": [
    "# Creating Dictionary for the Batsmen\n",
    "def create_dict_list_of_batters():\n",
    "    dictlist = []\n",
    "    unique_list = new_odibat.Player.unique()\n",
    "    for Player in unique_list:\n",
    "        dictlist.append({'value': Player, 'label': Player})\n",
    "    return dictlist"
   ]
  },
  {
   "cell_type": "code",
   "execution_count": null,
   "metadata": {},
   "outputs": [],
   "source": [
    "def dict_batter_list(dict_list):\n",
    "    batter_list = []\n",
    "    for dict in dict_list:\n",
    "        batter_list.append(dict.get('value'))\n",
    "    return batter_list"
   ]
  },
  {
   "cell_type": "code",
   "execution_count": null,
   "metadata": {},
   "outputs": [],
   "source": [
    "dict_batter= create_dict_list_of_batters()"
   ]
  },
  {
   "cell_type": "code",
   "execution_count": null,
   "metadata": {},
   "outputs": [],
   "source": [
    "# Creating Dictionary for the Batsmen\n",
    "def create_dict_list_of_bowlers():\n",
    "    dictlist = []\n",
    "    unique_list = new_odibowl.Player.unique()\n",
    "    for Player in unique_list:\n",
    "        dictlist.append({'value': Player, 'label': Player})\n",
    "    return dictlist"
   ]
  },
  {
   "cell_type": "code",
   "execution_count": null,
   "metadata": {},
   "outputs": [],
   "source": [
    "def dict_bowlers_list(dict_list):\n",
    "    bowler_list = []\n",
    "    for dict in dict_list:\n",
    "        bowler_list.append(dict.get('value'))\n",
    "    return bowler_list"
   ]
  },
  {
   "cell_type": "code",
   "execution_count": null,
   "metadata": {},
   "outputs": [],
   "source": [
    "dict_bowler= create_dict_list_of_bowlers()"
   ]
  },
  {
   "cell_type": "code",
   "execution_count": null,
   "metadata": {},
   "outputs": [],
   "source": [
    "def get_options(list_players):\n",
    "    dict_list = []\n",
    "    for i in list_players:\n",
    "        dict_list.append({'label': i, 'value': i})\n",
    "\n",
    "    return dict_list"
   ]
  },
  {
   "cell_type": "code",
   "execution_count": null,
   "metadata": {},
   "outputs": [],
   "source": [
    "# app.layout = html.Div([\n",
    "#     html.Div([\n",
    "#         html.H1('ONE DAY INTERNATIONAL CRICKET DASHBOARD',\n",
    "#                 style={'color': 'yellow','text-align':'center', 'height':'100px',\n",
    "#                                         })\n",
    "#     ], style={'width': '1400px', 'display': 'inline-block', \n",
    "#               'background-repeat': 'no-repeat', #'background-position': 'left top','height':'50px'\n",
    "#              'background-image': 'url(https://st4.depositphotos.com/1001941/25418/v/1600/depositphotos_254182916-stock-illustration-website-header-banner-or-poster.jpg)'}),\n",
    "#     #Three Parent Tabs\n",
    "#     html.Div([\n",
    "#         dcc.Tabs(id=\"tabs\", value='tab_set1', children=[         \n",
    "#         dcc.Tab(label='Teams', value='tab_teams',style=tab_style, selected_style=tab_selected_style,\n",
    "#                     children=[\n",
    "#         # Teams Dropdown\n",
    "#         html.Div([\n",
    "#         html.H2('Select Team(s)',style={'color': 'white'}),\n",
    "#         dcc.Dropdown(\n",
    "#             id='team-dropdown',\n",
    "#             options=dict_teams,\n",
    "#             multi=True,\n",
    "#             value = []\n",
    "#          )\n",
    "#      ], style={'width': '40%', 'display': 'inline-block'}), \n",
    "                        \n",
    "#         dcc.Tabs([\n",
    "#         dcc.Tab(id=\"tab_team0\",label='Win Ratio', style=tab_style, selected_style=tab_selected_style,\n",
    "#                 children=[\n",
    "#                 dcc.Graph(id='team-winRatio-graph')\n",
    "#                     ]\n",
    "#             ),\n",
    "#         dcc.Tab(id=\"tab_team1\",label='Wins', style=tab_style, selected_style=tab_selected_style,\n",
    "#                 children=[\n",
    "#                 dcc.Graph(id='team-wins-graph')\n",
    "#                     ]\n",
    "#             ),\n",
    "#         dcc.Tab(id=\"tab_team2\",label='Loss', style=tab_style, selected_style=tab_selected_style,\n",
    "#                 children=[\n",
    "#                 dcc.Graph(id='team-lost-graph')\n",
    "#                     ]\n",
    "#             )\n",
    "#         ], style=tabs_styles)]\n",
    "#                    ),\n",
    "#         #Second Tab - Players\n",
    "#         dcc.Tab(label='Players', value='tab_players',style=tab_style, selected_style=tab_selected_style,\n",
    "#                     children=[                        \n",
    "#         dcc.Tabs([\n",
    "#         #Batsman Tab\n",
    "#         dcc.Tab(id=\"tab_batsman\",label='Batsmen', style=tab_style, selected_style=tab_selected_style,\n",
    "#                 children=[\n",
    "#         # Batsman Dropdown\n",
    "#         html.Div([\n",
    "#         html.H2('Select Batsmen',style={'color': 'white'}),\n",
    "#         dcc.Dropdown(\n",
    "#             id='batter-dropdown',\n",
    "#             options=dict_batter,\n",
    "#             multi=True,\n",
    "#             value = []\n",
    "#          )\n",
    "#      ], style={'width': '40%', 'display': 'inline-block'}),\n",
    "#                     dcc.Graph(id='player-bat-runs-graph')\n",
    "#                 ]\n",
    "#             ),\n",
    "#         #Batsman Trend Tab\n",
    "#         dcc.Tab(id=\"tab_batsman_trend\",label='BatsmanTrend', style=tab_style, selected_style=tab_selected_style,\n",
    "#                 children=[\n",
    "#         # Batsman Trend Dropdown\n",
    "#         html.Div([\n",
    "#         html.H2('Select Batsmen',style={'color': 'white'}),\n",
    "#         dcc.Dropdown(\n",
    "#             id='playerselector',\n",
    "#             options=get_options(odi_bat['Player'].unique()),\n",
    "#             multi=True,\n",
    "#             value = [odi_bat['Player'].sort_values()[0]],style={'backgroundColor': '#1E1E1E'}\n",
    "#          )\n",
    "#      ], style={'width': '40%', 'display': 'inline-block'}),\n",
    "#         dcc.Graph(id='timeseries_bat',\n",
    "#           config={'displayModeBar': False},\n",
    "#           animate=True,\n",
    "#           figure=px.line(odi_bat,\n",
    "#                          x='Date',\n",
    "#                          y='Runs_only',\n",
    "#                          color='Player',\n",
    "#                          template='plotly_dark'\n",
    "#                         ).update_layout(\n",
    "#                                    {'plot_bgcolor': 'rgba(0, 0, 0, 0)',\n",
    "#                                     'paper_bgcolor': 'rgba(0, 0, 0, 0)'})\n",
    "#                                     )\n",
    "#                 ]\n",
    "#             ),\n",
    "#         #Bowlers Tab    \n",
    "#         dcc.Tab(label='Bowlers', value='tab_bowler',style=tab_style, selected_style=tab_selected_style,\n",
    "#                     children=[\n",
    "#         # Bowlers Dropdown\n",
    "#         html.Div([\n",
    "#         html.H2('Select Bowler(s)',style={'color': 'white'}),\n",
    "#         dcc.Dropdown(\n",
    "#             id='bowler-dropdown',\n",
    "#             options=dict_bowler,\n",
    "#             multi=True,\n",
    "#             value = []\n",
    "#          )\n",
    "#      ], style={'width': '40%', 'display': 'inline-block'}),  \n",
    "#         #dcc.Tabs([\n",
    "#             dcc.Tab(id=\"tab_bowler\",label='Bowler_Eco', style=tab_style, selected_style=tab_selected_style,\n",
    "#                 children=[\n",
    "#                 dcc.Graph(id='player-bowl-eco-graph')\n",
    "#                     ])\n",
    "#                     ]),\n",
    "           \n",
    "#            #Bowler Trend Tab\n",
    "#         dcc.Tab(id=\"tab_bowler_trend\",label='BowlerTrend', style=tab_style, selected_style=tab_selected_style,\n",
    "#                 children=[\n",
    "#         # Batsman Trend Dropdown\n",
    "#         html.Div([\n",
    "#         html.H2('Select Bowler',style={'color': 'white'}),\n",
    "#         dcc.Dropdown(\n",
    "#             id='bowlerselector',\n",
    "#             options=get_options(odi_bowl['Player'].unique()),\n",
    "#             multi=True,\n",
    "#             value = [odi_bowl['Player'].sort_values()[0]],style={'backgroundColor': '#1E1E1E'}\n",
    "#          )\n",
    "#      ], style={'width': '40%', 'display': 'inline-block'}),\n",
    "#         dcc.Graph(id='timeseries_bowl',\n",
    "#           config={'displayModeBar': False},\n",
    "#           animate=True,\n",
    "#           figure=px.line(odi_bowl,\n",
    "#                          x='Date',\n",
    "#                          y='Wkts',\n",
    "#                          color='Player',\n",
    "#                          template='plotly_dark'\n",
    "#                         ).update_layout(\n",
    "#                                    {'plot_bgcolor': 'rgba(0, 0, 0, 0)',\n",
    "#                                     'paper_bgcolor': 'rgba(0, 0, 0, 0)'})\n",
    "#                                     )\n",
    "#                 ]\n",
    "#             ), \n",
    "#                ])\n",
    "#             ])\n",
    "#         ])\n",
    "#     ])\n",
    "# ]) "
   ]
  },
  {
   "cell_type": "code",
   "execution_count": null,
   "metadata": {},
   "outputs": [],
   "source": [
    "app.layout = html.Div([\n",
    "    html.Div([\n",
    "        html.H1('ONE DAY INTERNATIONAL CRICKET DASHBOARD',\n",
    "                style={'color': 'yellow','text-align':'center', 'height':'100px',\n",
    "                                        })\n",
    "    ], style={'width': '1400px', 'display': 'inline-block', \n",
    "              'background-repeat': 'no-repeat', #'background-position': 'left top','height':'50px'\n",
    "             'background-image': 'url(https://st4.depositphotos.com/1001941/25418/v/1600/depositphotos_254182916-stock-illustration-website-header-banner-or-poster.jpg)'}),\n",
    "    #Three Parent Tabs\n",
    "    html.Div([\n",
    "        dcc.Tabs(id=\"tabs\", value='tab_set1', children=[         \n",
    "        dcc.Tab(label='Teams', value='tab_teams',style=tab_style, selected_style=tab_selected_style,\n",
    "                    children=[\n",
    "        # Teams Dropdown\n",
    "        html.Div([\n",
    "        html.H2('Select Team(s)',style={'color': 'white'}),\n",
    "        dcc.Dropdown(\n",
    "            id='team-dropdown',\n",
    "            options=dict_teams,\n",
    "            multi=True,\n",
    "            value = []\n",
    "         )\n",
    "     ], style={'width': '40%', 'display': 'inline-block'}), \n",
    "                        \n",
    "        dcc.Tabs([\n",
    "        dcc.Tab(id=\"tab_team0\",label='Win Ratio', style=tab_style, selected_style=tab_selected_style,\n",
    "                children=[\n",
    "                dcc.Graph(id='team-winRatio-graph')\n",
    "                    ]\n",
    "            ),\n",
    "        dcc.Tab(id=\"tab_team1\",label='Wins', style=tab_style, selected_style=tab_selected_style,\n",
    "                children=[\n",
    "                dcc.Graph(id='team-wins-graph')\n",
    "                    ]\n",
    "            ),\n",
    "        dcc.Tab(id=\"tab_team2\",label='Loss', style=tab_style, selected_style=tab_selected_style,\n",
    "                children=[\n",
    "                dcc.Graph(id='team-lost-graph')\n",
    "                    ]\n",
    "            )\n",
    "        ], style=tabs_styles)]\n",
    "                   ),\n",
    "        #Second Tab - Players\n",
    "        dcc.Tab(label='Players', value='tab_players',style=tab_style, selected_style=tab_selected_style,\n",
    "                    children=[                        \n",
    "        dcc.Tabs([\n",
    "        #Batsman Tab\n",
    "        dcc.Tab(id=\"tab_batsman\",label='Batsmen', style=tab_style, selected_style=tab_selected_style,\n",
    "                children=[\n",
    "        html.Div([\n",
    "        # Batsman Dropdown\n",
    "        html.Div([\n",
    "        html.H2('Select Batsmen',style={'color': 'white'}),\n",
    "        dcc.Dropdown(\n",
    "            id='batter-dropdown',\n",
    "            options=dict_batter,\n",
    "            multi=True,\n",
    "            value = []\n",
    "         ),\n",
    "            dcc.Graph(id='player-bat-runs-graph'),\n",
    "     ], className=\"six columns\",\n",
    "            style={'width': '40%', 'display': 'inline-block'}),\n",
    "                    \n",
    "        html.Div([\n",
    "            dcc.Graph(id='timeseries_bat',\n",
    "          config={'displayModeBar': False},\n",
    "          animate=True,\n",
    "          figure=px.line(odi_bat,\n",
    "                         x='Date',\n",
    "                         y='Runs_only',\n",
    "                         color='Player',\n",
    "                         template='plotly_dark'\n",
    "                        ).update_layout(\n",
    "                                   {'plot_bgcolor': 'rgba(0, 0, 0, 0)',\n",
    "                                    'paper_bgcolor': 'rgba(0, 0, 0, 0)'})\n",
    "                                    )\n",
    "     ],  className=\"six columns\",\n",
    "            style={'width': '40%', 'display': 'inline-block'}),\n",
    "        ],className=\"row\")\n",
    "                ]\n",
    "            ),\n",
    "        #Bowlers Tab    \n",
    "        dcc.Tab(label='Bowlers', id='tab_bowler',style=tab_style, selected_style=tab_selected_style,\n",
    "                    children=[\n",
    "        html.Div([\n",
    "        # Bowlers Dropdown\n",
    "        html.Div([\n",
    "        html.H2('Select Bowler(s)',style={'color': 'white'}),\n",
    "        dcc.Dropdown(\n",
    "            id='bowler-dropdown',\n",
    "            options=dict_bowler,\n",
    "            multi=True,\n",
    "            value = []\n",
    "         ),\n",
    "            dcc.Graph(id='player-bowl-eco-graph'),\n",
    "     ], className=\"six columns\", style={'width': '40%', 'display': 'inline-block'}),  \n",
    "        \n",
    "        html.Div([\n",
    "        dcc.Graph(id='timeseries_bowl',\n",
    "          config={'displayModeBar': False},\n",
    "          animate=True,\n",
    "          figure=px.line(odi_bowl,\n",
    "                         x='Date',\n",
    "                         y='Wkts',\n",
    "                         color='Player',\n",
    "                         template='plotly_dark'\n",
    "                        ).update_layout(\n",
    "                                   {'plot_bgcolor': 'rgba(0, 0, 0, 0)',\n",
    "                                    'paper_bgcolor': 'rgba(0, 0, 0, 0)'})\n",
    "                                    )\n",
    "     ],  className=\"six columns\", style={'width': '40%', 'display': 'inline-block'}),\n",
    "        ],className=\"row\")\n",
    "                ]\n",
    "            ), \n",
    "               ])\n",
    "            ])\n",
    "        ])\n",
    "    ])\n",
    "])\n",
    "\n",
    "app.css.append_css({\n",
    "    'external_url': 'https://codepen.io/chriddyp/pen/bWLwgP.css'\n",
    "})"
   ]
  },
  {
   "cell_type": "code",
   "execution_count": null,
   "metadata": {},
   "outputs": [],
   "source": [
    "# @app.callback(Output('team-like-bar', 'figure'), [Input('team-dropdown', 'value')])\n",
    "# def update_graph(selected_dropdown_value):\n",
    "#     t20_batstats_filter = t20_batstats[(t20_batstats['Country'].isin(selected_dropdown_value))]\n",
    "#     # Take the one with max datetime and remove duplicates for this bar chart\n",
    "#     #t20_batstats_filter = t20_batstats_filter.sort_values('Country', ascending=False)\n",
    "#     #t20_batstats_filter = t20_batstats_filter.drop_duplicates(['index'])\n",
    "    \n",
    "#     figure = {\n",
    "#         'data': [go.Bar(\n",
    "#             y=t20_batstats_filter.Country,\n",
    "#             x=t20_batstats_filter.Won,\n",
    "#             orientation='h'\n",
    "#         )],\n",
    "#         'layout':go.Layout(\n",
    "#             title= 'Country Win Trends',\n",
    "#             yaxis = dict(\n",
    "#                 autorange=True,\n",
    "#                 automargin=True\n",
    "#             )\n",
    "#         )\n",
    "#     }\n",
    "#     return figure\n"
   ]
  },
  {
   "cell_type": "code",
   "execution_count": null,
   "metadata": {},
   "outputs": [],
   "source": [
    "# For the top topics graph\n",
    "@app.callback(Output('team-winRatio-graph', 'figure'), [Input('team-dropdown', 'value')])\n",
    "def update_graph(selected_dropdown_value):\n",
    "    odi_batstats_filter = odi_batstats[(odi_batstats['Country'].isin(selected_dropdown_value))]\n",
    "\n",
    "    data = timeline_country_winratio_filtered(odi_batstats_filter,selected_dropdown_value)\n",
    "\n",
    "    # Edit the layout\n",
    "    layout = dict(title='Win Ratio',\n",
    "                  xaxis=dict(title='Country'),\n",
    "                  yaxis=dict(title='Win %')\n",
    "                  )\n",
    "    figure = dict(data=data,layout=layout)\n",
    "\n",
    "    return figure"
   ]
  },
  {
   "cell_type": "code",
   "execution_count": null,
   "metadata": {},
   "outputs": [],
   "source": [
    "def timeline_country_winratio_filtered(top_country_filtered_df, selected_dropdown_value):\n",
    "    # Make a timeline\n",
    "    trace_list = []\n",
    "    for value in selected_dropdown_value:\n",
    "        top_country_df = top_country_filtered_df[top_country_filtered_df['Country']==value]\n",
    "        trace_list.append(go.Bar(\n",
    "            y=top_country_df.WinLossRatio,\n",
    "            x=top_country_df.Country,\n",
    "            name = value\n",
    "        ))\n",
    "\n",
    "    return trace_list"
   ]
  },
  {
   "cell_type": "code",
   "execution_count": null,
   "metadata": {},
   "outputs": [],
   "source": [
    "# For the top topics graph\n",
    "@app.callback(Output('team-wins-graph', 'figure'), [Input('team-dropdown', 'value')])\n",
    "def update_graph(selected_dropdown_value):\n",
    "    odi_batstats_filter = odi_batstats[(odi_batstats['Country'].isin(selected_dropdown_value))]\n",
    "\n",
    "    data = timeline_country_won_filtered(odi_batstats_filter,selected_dropdown_value)\n",
    "\n",
    "    # Edit the layout\n",
    "    layout = dict(title='Matches Won',\n",
    "                  xaxis=dict(title='Country'),\n",
    "                  yaxis=dict(title='Matches Won')\n",
    "                  )\n",
    "    figure = dict(data=data,layout=layout)\n",
    "\n",
    "    return figure\n"
   ]
  },
  {
   "cell_type": "code",
   "execution_count": null,
   "metadata": {},
   "outputs": [],
   "source": [
    "def timeline_country_won_filtered(top_country_filtered_df, selected_dropdown_value):\n",
    "    # Make a timeline\n",
    "    trace_list = []\n",
    "    for value in selected_dropdown_value:\n",
    "        top_country_df = top_country_filtered_df[top_country_filtered_df['Country']==value]\n",
    "        trace_list.append(go.Bar(\n",
    "            y=top_country_df.Won,\n",
    "            x=top_country_df.Country,\n",
    "            name = value\n",
    "        ))\n",
    "\n",
    "    return trace_list"
   ]
  },
  {
   "cell_type": "code",
   "execution_count": null,
   "metadata": {},
   "outputs": [],
   "source": [
    "# For the top topics graph\n",
    "@app.callback(Output('team-lost-graph', 'figure'), [Input('team-dropdown', 'value')])\n",
    "def update_graph(selected_dropdown_value):\n",
    "    odi_batstats_filter = odi_batstats[(odi_batstats['Country'].isin(selected_dropdown_value))]\n",
    "\n",
    "    data = timeline_country_lost_filtered(odi_batstats_filter,selected_dropdown_value)\n",
    "\n",
    "    # Edit the layout\n",
    "    layout = dict(title='Matches Lost',\n",
    "                  xaxis=dict(title='Country'),\n",
    "                  yaxis=dict(title='Matches Lost')\n",
    "                  )\n",
    "    figure = dict(data=data,layout=layout)\n",
    "\n",
    "    return figure\n"
   ]
  },
  {
   "cell_type": "code",
   "execution_count": null,
   "metadata": {},
   "outputs": [],
   "source": [
    "def timeline_country_lost_filtered(top_country_filtered_df, selected_dropdown_value):\n",
    "    # Make a timeline\n",
    "    trace_list = []\n",
    "    for value in selected_dropdown_value:\n",
    "        top_country_df = top_country_filtered_df[top_country_filtered_df['Country']==value]\n",
    "        trace_list.append(go.Bar(\n",
    "            y=top_country_df.Lost,\n",
    "            x=top_country_df.Country,\n",
    "            name = value\n",
    "        ))\n",
    "\n",
    "    return trace_list"
   ]
  },
  {
   "cell_type": "code",
   "execution_count": null,
   "metadata": {},
   "outputs": [],
   "source": [
    "new_odibat['Runs_only'] = new_odibat['Runs_only'].astype(str)\n",
    "new_odibat.info()"
   ]
  },
  {
   "cell_type": "code",
   "execution_count": null,
   "metadata": {},
   "outputs": [],
   "source": [
    "@app.callback(Output('player-bat-runs-graph', 'figure'), [Input('batter-dropdown', 'value')])\n",
    "def update_graph(selected_dropdown_value):\n",
    "    new_odibat_filter = new_odibat[(new_odibat['Player'].isin(selected_dropdown_value))]\n",
    "\n",
    "    data = timeline_player_bat_runs_filtered(new_odibat_filter,selected_dropdown_value)\n",
    "    \n",
    "    # Edit the layout\n",
    "    layout = go.Layout(\n",
    "        title=\"Run v Strike Rate\",\n",
    "        yaxis=dict(\n",
    "            title='Runs',\n",
    "            side='left'\n",
    "        ),\n",
    "        yaxis2=dict(\n",
    "            title='Strike Rate',\n",
    "            side='right',            \n",
    "            overlaying='y',\n",
    "        )\n",
    "    )\n",
    "    \n",
    "    figure = dict(data=data,layout=layout)\n",
    "    return figure"
   ]
  },
  {
   "cell_type": "code",
   "execution_count": null,
   "metadata": {},
   "outputs": [],
   "source": [
    "def timeline_player_bat_runs_filtered(top_batsman_filtered_df, selected_dropdown_value):\n",
    "    # Make a timeline\n",
    "   \n",
    "    trace_list = []\n",
    "    for value in selected_dropdown_value:\n",
    "        top_batsman_df = top_batsman_filtered_df[top_batsman_filtered_df['Player']==value]\n",
    "  #      y = [[top_batsman_df['Runs_only']],[top_batsman_df['SR']]\n",
    "        trace_list.append(go.Bar(width=0.1,\n",
    "            y=top_batsman_df.Runs_only,\n",
    "            x=top_batsman_df.Player,\n",
    "            name = 'Runs',\n",
    "            yaxis = 'y2',\n",
    "            showlegend=False\n",
    "        ))\n",
    "        trace_list.append(go.Bar(width=0.3,opacity=0.7,\n",
    "            y=top_batsman_df.SR,\n",
    "            x=top_batsman_df.Player,\n",
    "            name = 'Strike Rate',\n",
    "            showlegend=False\n",
    "        ))\n",
    "        \n",
    "    return trace_list"
   ]
  },
  {
   "cell_type": "code",
   "execution_count": null,
   "metadata": {},
   "outputs": [],
   "source": [
    "\n",
    "@app.callback(Output('player-bowl-eco-graph', 'figure'), [Input('bowler-dropdown', 'value')])\n",
    "def update_graph(selected_dropdown_value):\n",
    "    new_odibowl_filter = new_odibowl[(new_odibowl['Player'].isin(selected_dropdown_value))]\n",
    "\n",
    "    data = timeline_player_bowl_filtered(new_odibowl_filter,selected_dropdown_value)\n",
    "\n",
    "    # Edit the layout\n",
    "    layout = go.Layout(\n",
    "        title=\"Econ v Wkts\",\n",
    "        yaxis=dict(\n",
    "            title='Econ',\n",
    "            side='left'\n",
    "        ),\n",
    "        yaxis2=dict(\n",
    "            title='Wkts',\n",
    "            side='right',            \n",
    "            overlaying='y',\n",
    "        )\n",
    "    )\n",
    "    \n",
    "    figure = dict(data=data,layout=layout)\n",
    "    return figure"
   ]
  },
  {
   "cell_type": "code",
   "execution_count": null,
   "metadata": {},
   "outputs": [],
   "source": [
    "def timeline_player_bowl_filtered(top_bowler_filtered_df, selected_dropdown_value):\n",
    "    # Make a timeline\n",
    "#     trace_list = []\n",
    "#     for value in selected_dropdown_value:\n",
    "#         top_bowler_df = top_bowler_filtered_df[top_bowler_filtered_df['Player_Name']==value]\n",
    "#         trace_list.append(go.Bar(\n",
    "#             y=top_bowler_df.Econ,\n",
    "#             x=top_bowler_df.Player_Name,\n",
    "#             name = value\n",
    "#         ))\n",
    "\n",
    "#     return trace_list\n",
    "\n",
    "    trace_list = []\n",
    "    for value in selected_dropdown_value:\n",
    "        top_bowler_df = top_bowler_filtered_df[top_bowler_filtered_df['Player']==value]\n",
    "        trace_list.append(go.Bar(width=0.1,\n",
    "            y=top_bowler_df.Econ,\n",
    "            x=top_bowler_df.Player,\n",
    "            name = 'Econ',\n",
    "            yaxis = 'y2',\n",
    "            showlegend=False\n",
    "        ))\n",
    "        trace_list.append(go.Bar(width=0.3,opacity=0.7,\n",
    "            y=top_bowler_df.Wkts,\n",
    "            x=top_bowler_df.Player,\n",
    "            name = 'Wkts',\n",
    "            showlegend=False\n",
    "        ))\n",
    "        \n",
    "    return trace_list"
   ]
  },
  {
   "cell_type": "code",
   "execution_count": null,
   "metadata": {},
   "outputs": [],
   "source": [
    "# Callback for timeseries bat\n",
    "@app.callback(Output('timeseries_bat', 'figure'),\n",
    "              [Input('batter-dropdown', 'value')])\n",
    "def update_graph(selected_dropdown_value):\n",
    "    trace1 = []\n",
    "    df_sub = odi_bat\n",
    "    for Player in selected_dropdown_value:\n",
    "        trace1.append(go.Scatter(x=df_sub[df_sub['Player'] == Player].index,\n",
    "                                 y=df_sub[df_sub['Player'] == Player]['Runs_only'],\n",
    "                                 mode='lines',\n",
    "                                 opacity=0.7,\n",
    "                                 name=Player,\n",
    "                                 textposition='bottom center'))\n",
    "    traces = [trace1]\n",
    "    data = [val for sublist in traces for val in sublist]\n",
    "    figure = {'data': data,\n",
    "              'layout': go.Layout(\n",
    "                  colorway=[\"#5E0DAC\", '#FF4F00', '#375CB1', '#FF7400', '#FFF400', '#FF0056'],\n",
    "                  template='plotly_dark',\n",
    "                  paper_bgcolor='rgba(0, 0, 0, 0)',\n",
    "                  plot_bgcolor='rgba(0, 0, 0, 0)',\n",
    "                  margin={'b': 15},\n",
    "                  hovermode='x',\n",
    "                  autosize=True,\n",
    "                  title={'text': 'Runs Trend', 'font': {'color': 'white'}, 'x': 0.5},\n",
    "                  xaxis={'range': [df_sub.index.min(), df_sub.index.max()]},\n",
    "              ),\n",
    "\n",
    "              }\n",
    "\n",
    "    return figure"
   ]
  },
  {
   "cell_type": "code",
   "execution_count": null,
   "metadata": {},
   "outputs": [],
   "source": [
    "# Callback for timeseries bowl\n",
    "@app.callback(Output('timeseries_bowl', 'figure'),\n",
    "              [Input('bowler-dropdown', 'value')])\n",
    "def update_graph(selected_dropdown_value):\n",
    "    trace1 = []\n",
    "    df_sub = odi_bowl\n",
    "    for Player in selected_dropdown_value:\n",
    "        trace1.append(go.Scatter(x=df_sub[df_sub['Player'] == Player].index,\n",
    "                                 y=df_sub[df_sub['Player'] == Player]['Wkts'],\n",
    "                                 mode='lines',\n",
    "                                 opacity=0.7,\n",
    "                                 name=Player,\n",
    "                                 textposition='bottom center'))\n",
    "    traces = [trace1]\n",
    "    data = [val for sublist in traces for val in sublist]\n",
    "    figure = {'data': data,\n",
    "              'layout': go.Layout(\n",
    "                  colorway=[\"#5E0DAC\", '#FF4F00', '#375CB1', '#FF7400', '#FFF400', '#FF0056'],\n",
    "                  template='plotly_dark',\n",
    "                  paper_bgcolor='rgba(0, 0, 0, 0)',\n",
    "                  plot_bgcolor='rgba(0, 0, 0, 0)',\n",
    "                  margin={'b': 15},\n",
    "                  hovermode='x',\n",
    "                  autosize=True,\n",
    "                  title={'text': 'Wickets Trend', 'font': {'color': 'white'}, 'x': 0.5},\n",
    "                  xaxis={'range': [df_sub.index.min(), df_sub.index.max()]},\n",
    "              ),\n",
    "\n",
    "              }\n",
    "\n",
    "    return figure"
   ]
  },
  {
   "cell_type": "code",
   "execution_count": null,
   "metadata": {
    "scrolled": false
   },
   "outputs": [],
   "source": [
    "if __name__ == '__main__':\n",
    "    app.run_server(debug=True, use_reloader=False)"
   ]
  },
  {
   "cell_type": "code",
   "execution_count": null,
   "metadata": {},
   "outputs": [],
   "source": [
    "# import matplotlib.pyplot as plt\n",
    "# subject =['England','Australia','South Africa','West Indies',\n",
    "#           'New Zealand','India','Pakistan','Sri Lanka','Zimbabwe','Bermuda','Netherlands','Bangladesh',\n",
    "#           'Kenya','Namibia','Ireland','Scotland','Afghanistan']\n",
    "# perc = [(375/746)*100,375/(575/949)*100,(385/625)*100,(401/822)*100,(351/772)*100,(513/987)*100,(486/927)*100,\n",
    "#         (389/852)*100,(138/529)*100,(7/35)*100,(31/80)*100,(128/376)*100,(42/154)*100,(5/14)*100,\n",
    "#         (67/156)*100,(42/115)*100,(59/126)*100]\n",
    "# explode = (0,0,0.1,0,0,0,0,0,0,0,0,0,0,0,0,0,0)\n",
    "# plt.pie(perc,explode=explode,labels=subject,autopct='%2.2f%%',shadow=True,rotatelabels=False,radius=3)\n",
    "# plt.show()"
   ]
  },
  {
   "cell_type": "code",
   "execution_count": null,
   "metadata": {},
   "outputs": [],
   "source": [
    "odi_bat.head()"
   ]
  },
  {
   "cell_type": "code",
   "execution_count": null,
   "metadata": {},
   "outputs": [],
   "source": []
  }
 ],
 "metadata": {
  "kernelspec": {
   "display_name": "learn-env",
   "language": "python",
   "name": "learn-env"
  },
  "language_info": {
   "codemirror_mode": {
    "name": "ipython",
    "version": 3
   },
   "file_extension": ".py",
   "mimetype": "text/x-python",
   "name": "python",
   "nbconvert_exporter": "python",
   "pygments_lexer": "ipython3",
   "version": "3.6.10"
  },
  "toc": {
   "base_numbering": "",
   "nav_menu": {},
   "number_sections": false,
   "sideBar": true,
   "skip_h1_title": false,
   "title_cell": "Table of Contents",
   "title_sidebar": "Contents",
   "toc_cell": true,
   "toc_position": {},
   "toc_section_display": true,
   "toc_window_display": false
  },
  "varInspector": {
   "cols": {
    "lenName": 16,
    "lenType": 16,
    "lenVar": 40
   },
   "kernels_config": {
    "python": {
     "delete_cmd_postfix": "",
     "delete_cmd_prefix": "del ",
     "library": "var_list.py",
     "varRefreshCmd": "print(var_dic_list())"
    },
    "r": {
     "delete_cmd_postfix": ") ",
     "delete_cmd_prefix": "rm(",
     "library": "var_list.r",
     "varRefreshCmd": "cat(var_dic_list()) "
    }
   },
   "types_to_exclude": [
    "module",
    "function",
    "builtin_function_or_method",
    "instance",
    "_Feature"
   ],
   "window_display": false
  }
 },
 "nbformat": 4,
 "nbformat_minor": 4
}
